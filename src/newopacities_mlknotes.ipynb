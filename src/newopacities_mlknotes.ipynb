{
 "cells": [
  {
   "cell_type": "code",
   "execution_count": 6,
   "id": "9f21eb0a",
   "metadata": {},
   "outputs": [],
   "source": [
    "from math import pi, sqrt, cosh, exp, floor\n",
    "import numpy as np\n",
    "from scipy.optimize import fsolve\n",
    "from scipy.integrate import quad"
   ]
  },
  {
   "cell_type": "code",
   "execution_count": 16,
   "id": "22dd8370",
   "metadata": {},
   "outputs": [],
   "source": [
    "HBARC = 197.3269718\n",
    "NEUTRON_MASS = 939.5653 / HBARC\n",
    "PROTON_MASS = 938.272 / HBARC\n",
    "NUCLEON_MASS = 2 * NEUTRON_MASS * PROTON_MASS / (NEUTRON_MASS + PROTON_MASS)\n",
    "MUON_MASS = 105.7 / HBARC\n",
    "ELECTRON_MASS = 0.511 / HBARC\n",
    "GA = 1.267\n",
    "MEVFM3_TO_GCM3 = 1.78e12\n",
    "FM4_TO_DYNECM2 = 3.16e35\n",
    "EG_TO_MEV = 7.69**2 / 10**16\n",
    "\n",
    "COS_TC = sqrt(0.95)\n",
    "GF = (HBARC / 292800)**2\n",
    "GN = -1.913 * 2\n",
    "GP = 3.586 + 2\n",
    "\n",
    "def gtild(eb, t):\n",
    "    return GF**2 * COS_TC**2 * eb / (4 * pi * cosh(GN * eb / (NUCLEON_MASS * t)) * cosh(GP * eb / (4 * NUCLEON_MASS * t)))\n",
    "def gtildpr(eb, t):\n",
    "    return GF**2 * COS_TC**2 * eb / (4 * pi * cosh(GN * eb / (NUCLEON_MASS * t)) * cosh((GP - 2) * eb / (4 * NUCLEON_MASS * t)))\n",
    "def nfd(e, mu, t):\n",
    "    return 1 / (np.exp((e - mu) / t) + 1)"
   ]
  },
  {
   "cell_type": "code",
   "execution_count": null,
   "id": "d2eb15da",
   "metadata": {},
   "outputs": [],
   "source": [
    "def electron_energy(eb, n, kz):\n",
    "    return np.sqrt(2 * n * eb + kz**2 + ELECTRON_MASS**2)\n",
    "\n",
    "def electron_density(mu, eb, t):\n",
    "    if mu < 0:\n",
    "        max_ll = floor(10 * t**2 / (2 * eb))\n",
    "    else:\n",
    "        max_ll = floor(10 * (t**2 + mu) / (2 * eb))\n",
    "\n",
    "    pos_ll = np.linspace(1, max_ll, max_ll)\n",
    "    return quad(lambda kz: eb / (2 * pi**2) * (1 + 2 * np.sum(nfd(electron_energy(eb, pos_ll, kz), mu, t))), 0, max((10 * t, 10 * (t + mu))))[0]\n",
    "\n",
    "def mue_solver(ne, eb, t):\n",
    "    return fsolve(lambda mu: ne - electron_density(mu, eb, t), t)"
   ]
  },
  {
   "cell_type": "code",
   "execution_count": null,
   "id": "ab14ccea",
   "metadata": {},
   "outputs": [],
   "source": [
    "#if ne is 0, set ne0 to 1\n",
    "def mat_elt(sp, sn, ct_nu, ne0 = 0):\n",
    "    if sp == 1 and sn == 1:\n",
    "        return 2 * (1 + GA)**2 * (1 + ct_nu) + 2 * (1 - GA)**2 * (1 - ct_nu) * (1 - ne0)\n",
    "    elif sp == 1 and sn == -1:\n",
    "        return 8 * GA**2 * (1 - ct_nu)\n",
    "    elif sp == -1 and sn == 1:\n",
    "        return 8 * GA**2 * (1 + ct_nu) * (1 - ne0)\n",
    "    elif sp == -1 and sn == -1:\n",
    "        return 2 * (1 - GA)**2 * (1 + ct_nu) + 2 * (1 + GA)**2 * (1 - ct_nu) * (1 - ne0)\n",
    "    else:\n",
    "        print('invalid spin')\n",
    "        return 0"
   ]
  },
  {
   "cell_type": "code",
   "execution_count": null,
   "id": "43e6ebb2",
   "metadata": {},
   "outputs": [],
   "source": [
    "def kappan_high(nb, yp, eb, t, knu, ct_nu):"
   ]
  }
 ],
 "metadata": {
  "kernelspec": {
   "display_name": "base",
   "language": "python",
   "name": "python3"
  },
  "language_info": {
   "codemirror_mode": {
    "name": "ipython",
    "version": 3
   },
   "file_extension": ".py",
   "mimetype": "text/x-python",
   "name": "python",
   "nbconvert_exporter": "python",
   "pygments_lexer": "ipython3",
   "version": "3.8.8"
  }
 },
 "nbformat": 4,
 "nbformat_minor": 5
}
