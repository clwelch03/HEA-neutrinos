{
 "cells": [
  {
   "cell_type": "code",
   "execution_count": 1,
   "id": "946263a3",
   "metadata": {},
   "outputs": [
    {
     "data": {
      "text/plain": [
       "Main.CrossSection"
      ]
     },
     "metadata": {},
     "output_type": "display_data"
    }
   ],
   "source": [
    "include(\"./CrossSection.jl\")"
   ]
  },
  {
   "cell_type": "code",
   "execution_count": null,
   "id": "76792ce4",
   "metadata": {},
   "outputs": [],
   "source": []
  },
  {
   "cell_type": "code",
   "execution_count": null,
   "id": "c9c54ea1",
   "metadata": {},
   "outputs": [],
   "source": []
  }
 ],
 "metadata": {
  "kernelspec": {
   "display_name": "Julia 1.10.5",
   "language": "julia",
   "name": "julia-1.10"
  },
  "language_info": {
   "file_extension": ".jl",
   "mimetype": "application/julia",
   "name": "julia",
   "version": "1.10.5"
  }
 },
 "nbformat": 4,
 "nbformat_minor": 5
}
